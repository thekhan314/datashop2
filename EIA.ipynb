{
 "cells": [
  {
   "cell_type": "code",
   "execution_count": 1,
   "metadata": {
    "ExecuteTime": {
     "end_time": "2020-09-27T22:27:37.308078Z",
     "start_time": "2020-09-27T22:27:35.267971Z"
    }
   },
   "outputs": [],
   "source": [
    "import pandas as pd\n",
    "import numpy as np\n",
    "import scipy as sp\n",
    "from time import time, sleep\n",
    "import json\n",
    "import requests\n",
    "import random\n",
    "random.seed(11)\n",
    "import datashop as ds\n",
    "from datashop import report\n",
    "import pprint as pp\n",
    "from bs4 import BeautifulSoup as bs\n",
    "import matplotlib.pyplot as plt\n",
    "from sklearn.feature_extraction.text import CountVectorizer\n",
    "\n",
    "import matplotlib as mpl\n",
    "import os\n",
    "import glob\n",
    "from lxml import html\n",
    "from matplotlib import cycler\n",
    "\n",
    "from tqdm import tqdm\n",
    "%matplotlib inline"
   ]
  },
  {
   "cell_type": "code",
   "execution_count": 48,
   "metadata": {
    "ExecuteTime": {
     "end_time": "2020-09-28T01:24:10.935496Z",
     "start_time": "2020-09-28T01:24:10.855670Z"
    }
   },
   "outputs": [],
   "source": [
    "class Feature:\n",
    "    \n",
    "    def __init__(self,series):\n",
    "        \n",
    "        self.series = series\n",
    "        self.report = pd.Series()\n",
    "        self.desc = self.series.describe()\n",
    "        \n",
    "        self.null_count = self.series.isna().sum()\n",
    "        self.null_percent = round((self.null_count/len(self.series))*100,2)\n",
    "        \n",
    "        self.types = self.series.dropna().apply(\n",
    "            lambda x: type(x).__name__)\n",
    "        self.type_counts = self.types.value_counts()\n",
    "        \n",
    "        self.val_counts = self.series.value_counts()\n",
    "        self.cat_ratio = len(self.val_counts)/len(self.series)\n",
    "        self.threshold = 0.20           \n",
    "            \n",
    "        self.report['Length'] = len(self.series)\n",
    "        self.report['Values'] = self.series.count()\n",
    "        self.report['Missing']= str(self.null_count) +'({})%'.format(self.null_percent)\n",
    "        self.report['Unique'] = len(self.val_counts)\n",
    "        \n",
    "        self.fig = plt.figure(figsize=(12,12))\n",
    "        \n",
    "        \n",
    "        self.type_map = {\n",
    "            'str':self.StringFeature,\n",
    "            'int':self.NumericFeature,\n",
    "            'float':self.NumericFeature,\n",
    "            'datetime64':self.DateFeature,\n",
    "            'datetime32':self.DateFeature,\n",
    "            'category':self.Categorical\n",
    "        }\n",
    "        \n",
    "        if len(self.type_counts) > 1:\n",
    "            self.Categorical()\n",
    "        elif isinstance(\n",
    "            self.series.index,pd.core.indexes.datetimes.DatetimeIndex):\n",
    "            self.DateFeature()\n",
    "        else:\n",
    "            self.type_map[str(self.type_counts.index[0])]()\n",
    "        \n",
    "        \n",
    "        if self.cat_ratio < self.threshold:\n",
    "            self.cat_msg = '\\\n",
    "                This feature looks like it might be categorical.\\n \\\n",
    "                The ratio of unique values to total items \\n \\\n",
    "                is greater than the specified threshold. \\n \\n \\\n",
    "                To convert to a categorical, call .categorical method.'\n",
    "            \n",
    "            print(self.cat_msg)        \n",
    "            \n",
    "    def NumericFeature(self):\n",
    "        \n",
    "        self.report['Mean'] = self.series.mean()\n",
    "        self.report['Median'] = self.series.median()\n",
    "       \n",
    "        self.grid = plt.GridSpec(12,12,wspace=0.8,hspace=2)\n",
    "        \n",
    "        self.box_plot(self.series,self.grid[:2,:])\n",
    "        self.histo(self.series,self.grid[2:,:])\n",
    "        \n",
    "    def StringFeature(self):\n",
    "        \n",
    "        self.str_lengths = self.series.fillna('').apply(len)\n",
    "        \n",
    "        self.report['Mean Length'] = self.str_lengths.mean()\n",
    "        self.report['Median Length'] = self.str_lengths.median()\n",
    "        \n",
    "        self.chart_words = 25\n",
    "        self.countvec = CountVectorizer(stop_words='english')\n",
    "        self.wordcounts= self.countvec.fit_transform(self.series)\n",
    "        self.word_totals = self.wordcounts.toarray().sum(axis=0)\n",
    "        self.words = self.countvec.get_feature_names()\n",
    "        self.count_dict = dict(zip(self.words,self.word_totals))\n",
    "        self.count_series = pd.Series(self.count_dict)\n",
    "        self.count_series.sort_values(ascending = False,inplace=True)\n",
    "        \n",
    "         \n",
    "        self.fig.set_figheight(16)\n",
    "        self.grid = plt.GridSpec(16,12,wspace=0.6,hspace=1)\n",
    "        \n",
    "        self.box_plot(self.str_lengths,self.grid[:2,:])\n",
    "        self.histo(self.str_lengths,self.grid[2:9,:])\n",
    "        self.bar_plot(self.count_series.head(self.chart_words),self.grid[9:,:])\n",
    "      \n",
    "    def DateFeature(self):\n",
    "        \n",
    "        self.series.sort_index(ascending=True,inplace=True)\n",
    "        \n",
    "        self.report[\"Earliest Point\"] = self.series.index[0]\n",
    "        self.report[\"Latest Point\"] = self.series.index[-1]\n",
    "        \n",
    "        self.series.sort_index(ascending=True,inplace=True)\n",
    "        \n",
    "        self.time_plot = self.fig.add_subplot()    \n",
    "        self.fig.set_figheight(5)\n",
    "        self.fig.set_figwidth(16)\n",
    "        \n",
    "        self.time_plot.plot(self.series)\n",
    "    \n",
    "    def Categorical(self):\n",
    "        \n",
    "        display(self.report)\n",
    "        \n",
    "        self.series = self.series.astype('category')\n",
    "        \n",
    "        self.fig = plt.figure()\n",
    "        self.fig.set_figheight(5)\n",
    "        self.fig.set_figwidth(.75*len(self.val_counts))\n",
    "        \n",
    "        self.grid = plt.GridSpec(12,12,wspace=0.6,hspace=1)\n",
    "        \n",
    "        self.bar_plot(self.val_counts,self.grid[:,:])\n",
    "        \n",
    "    def bar_plot(self,series,grid_loc):\n",
    "        \n",
    "        self.bar_chart = self.fig.add_subplot(grid_loc)\n",
    "        self.bar_chart.bar(\n",
    "            list(series.index),\n",
    "            series,\n",
    "            width=0.7)\n",
    "        self.bar_chart.tick_params(\n",
    "                    axis='x', \n",
    "                    labelrotation=55,\n",
    "                    length=10,\n",
    "                    labelsize= 10\n",
    "                    )\n",
    "        \n",
    "    def box_plot(self,series,grid_loc):\n",
    "        \n",
    "        self.box_axes = self.fig.add_subplot(grid_loc)\n",
    "        self.box_axes.boxplot(series,vert=False)\n",
    "        \n",
    "    def line_plot(self,series,grid_loc):\n",
    "        \n",
    "        self.line_axes = self.fig.add_subplot(grid_loc)\n",
    "        self.line_axes.plot(series)\n",
    "    \n",
    "    def histo(self,series,grid_loc):\n",
    "\n",
    "        self.histo = self.fig.add_subplot(grid_loc)\n",
    "        self.n = self.histo.hist(series,bins=100)[0]\n",
    "        \n",
    "        self.vert_marks = series.describe().loc[\n",
    "            ['mean',\n",
    "            '25%',\n",
    "            '50%',\n",
    "            '75%']\n",
    "        ]\n",
    "       \n",
    "        self.histo.vlines(\n",
    "            self.vert_marks,\n",
    "            ymin=0,\n",
    "            ymax=max(self.n) *1.2,\n",
    "            linestyles='dashed')\n",
    "        \n",
    "        for index,value in self.vert_marks.items():\n",
    "            \n",
    "            self.histo.annotate(\n",
    "                index,\n",
    "                (value,max(self.n) *.9)\n",
    "            )"
   ]
  },
  {
   "cell_type": "code",
   "execution_count": 77,
   "metadata": {
    "ExecuteTime": {
     "end_time": "2020-09-28T01:37:24.339068Z",
     "start_time": "2020-09-28T01:37:24.291634Z"
    }
   },
   "outputs": [],
   "source": [
    "cat_string = pd.read_csv('data/categ_string_sample').iloc[:,1]\n",
    "\n",
    "norm_num = pd.read_csv('data/normal_numeric_sample').iloc[:,1]\n",
    "\n",
    "time_ser = pd.read_csv('data/date_series_sample')\n",
    "time_ser['Date'] = pd.to_datetime(time_ser['Date'])\n",
    "time_ser.set_index('Date',inplace=True)\n",
    "time_ser = time_ser.iloc[:,0]"
   ]
  },
  {
   "cell_type": "code",
   "execution_count": 50,
   "metadata": {
    "ExecuteTime": {
     "end_time": "2020-09-28T01:27:02.330742Z",
     "start_time": "2020-09-28T01:27:01.608222Z"
    }
   },
   "outputs": [
    {
     "name": "stderr",
     "output_type": "stream",
     "text": [
      "C:\\Users\\umark\\Anaconda3\\lib\\site-packages\\ipykernel_launcher.py:6: DeprecationWarning: The default dtype for empty Series will be 'object' instead of 'float64' in a future version. Specify a dtype explicitly to silence this warning.\n",
      "  \n"
     ]
    },
    {
     "data": {
      "text/plain": [
       "Length        3000\n",
       "Values        3000\n",
       "Missing    0(0.0)%\n",
       "Unique        3000\n",
       "Mean       350.269\n",
       "Median     349.535\n",
       "dtype: object"
      ]
     },
     "execution_count": 50,
     "metadata": {},
     "output_type": "execute_result"
    },
    {
     "data": {
      "image/png": "[encoded data removed]",
      "text/plain": [
       "<Figure size 864x864 with 2 Axes>"
      ]
     },
     "metadata": {},
     "output_type": "display_data"
    }
   ],
   "source": [
    "num_Test = Feature(norm_num)\n",
    "num_Test.report"
   ]
  },
  {
   "cell_type": "code",
   "execution_count": 79,
   "metadata": {
    "ExecuteTime": {
     "end_time": "2020-09-28T01:37:40.205994Z",
     "start_time": "2020-09-28T01:37:39.902211Z"
    }
   },
   "outputs": [
    {
     "name": "stderr",
     "output_type": "stream",
     "text": [
      "C:\\Users\\umark\\Anaconda3\\lib\\site-packages\\ipykernel_launcher.py:6: DeprecationWarning: The default dtype for empty Series will be 'object' instead of 'float64' in a future version. Specify a dtype explicitly to silence this warning.\n",
      "  \n"
     ]
    },
    {
     "data": {
      "text/plain": [
       "Length                           8762\n",
       "Values                           8762\n",
       "Missing                       0(0.0)%\n",
       "Unique                           4891\n",
       "Earliest Point    1986-01-02 00:00:00\n",
       "Latest Point      2020-09-22 00:00:00\n",
       "dtype: object"
      ]
     },
     "execution_count": 79,
     "metadata": {},
     "output_type": "execute_result"
    },
    {
     "data": {
      "image/png": "[encoded data removed]",
      "text/plain": [
       "<Figure size 1152x360 with 1 Axes>"
      ]
     },
     "metadata": {},
     "output_type": "display_data"
    }
   ],
   "source": [
    "time_test = Feature(time_ser)\n",
    "time_test.report"
   ]
  },
  {
   "cell_type": "code",
   "execution_count": null,
   "metadata": {},
   "outputs": [],
   "source": [
    "self.type_map = {\n",
    "            'str':{\n",
    "                'method':self.StringFeature,\n",
    "                'plots':self.\n",
    "            }\n",
    "            'int':self.NumericFeature,\n",
    "            'float':self.NumericFeature,\n",
    "            'datetime64':self.DateFeature,\n",
    "            'datetime32':self.DateFeature,\n",
    "            'category':self.Categorical\n",
    "        }"
   ]
  },
  {
   "cell_type": "code",
   "execution_count": 83,
   "metadata": {
    "ExecuteTime": {
     "end_time": "2020-09-28T04:33:11.354523Z",
     "start_time": "2020-09-28T04:33:11.343553Z"
    }
   },
   "outputs": [
    {
     "ename": "SyntaxError",
     "evalue": "invalid syntax (<ipython-input-83-8e3d8a5d9f38>, line 12)",
     "output_type": "error",
     "traceback": [
      "\u001b[1;36m  File \u001b[1;32m\"<ipython-input-83-8e3d8a5d9f38>\"\u001b[1;36m, line \u001b[1;32m12\u001b[0m\n\u001b[1;33m    'location':[:2,:]\u001b[0m\n\u001b[1;37m                ^\u001b[0m\n\u001b[1;31mSyntaxError\u001b[0m\u001b[1;31m:\u001b[0m invalid syntax\n"
     ]
    }
   ],
   "source": [
    "plot_map =  {\n",
    "\n",
    "'string': {\n",
    "    'figure':{\n",
    "        'figsize':[16,12],\n",
    "        'grid_size':[12,12]\n",
    "        },\n",
    "    'plots':[\n",
    "        {\n",
    "        'type':self.box_plot,\n",
    "        'data':self.str_lengths,\n",
    "        'location':[:2,:]\n",
    "        },\n",
    "        {\n",
    "        'type':self.histo,\n",
    "        'data':self.str_lengths,\n",
    "        'location':[2:9,:]\n",
    "        },\n",
    "        {\n",
    "        'type':self.bar_plot,\n",
    "        'data':self.count_series.head(self.chart_words),\n",
    "        'location':[9:,:]\n",
    "        }\n",
    "    ]\n",
    "    },\n",
    "'numeric':{\n",
    "    'figure':{\n",
    "        'figsize':[12,12]\n",
    "        'grid_size':[12,12]\n",
    "                },\n",
    "    'plots':[\n",
    "        {\n",
    "        'type':self.box_plot,\n",
    "        'data':self.series,\n",
    "        'location':[:2,:]\n",
    "        },\n",
    "        {\n",
    "        'type':self.histo,\n",
    "        'data':self.series,\n",
    "        'location':[2:9,:]\n",
    "        }\n",
    "    ]\n",
    "                    },\n",
    "\n",
    "'categorical':{\n",
    "    'figure':{\n",
    "            'figsize':[12,.75*len(self.val_counts)]\n",
    "            'grid_size':[12,12]\n",
    "            },\n",
    "    'plots':[\n",
    "        {\n",
    "        'type':self.box_plot,\n",
    "        'data':self.series,\n",
    "        'location':[:2,:]\n",
    "        }\n",
    "            ]\n",
    "\n",
    "    }\n",
    "}\n"
   ]
  },
  {
   "cell_type": "code",
   "execution_count": null,
   "metadata": {},
   "outputs": [],
   "source": [
    "def plotting:\n",
    "    self.plot_dict = self.plot_map[self.feat_type]\n",
    "    \n",
    "    self.fig = plt.figure(figsize=(*self.plot_dict['figure']['figsize']))\n",
    "    \n",
    "    self.fig.set_figwidth(.75*len(self.val_counts))"
   ]
  },
  {
   "cell_type": "markdown",
   "metadata": {},
   "source": [
    "ToDo\n",
    "\n",
    "Time series\n",
    "Categorical\n",
    "show unique values in report\n",
    "Outlier report\n",
    "\n"
   ]
  }
 ],
 "metadata": {
  "kernelspec": {
   "display_name": "Python 3",
   "language": "python",
   "name": "python3"
  },
  "language_info": {
   "codemirror_mode": {
    "name": "ipython",
    "version": 3
   },
   "file_extension": ".py",
   "mimetype": "text/x-python",
   "name": "python",
   "nbconvert_exporter": "python",
   "pygments_lexer": "ipython3",
   "version": "3.7.4"
  },
  "toc": {
   "base_numbering": 1,
   "nav_menu": {},
   "number_sections": true,
   "sideBar": true,
   "skip_h1_title": false,
   "title_cell": "Table of Contents",
   "title_sidebar": "Contents",
   "toc_cell": false,
   "toc_position": {},
   "toc_section_display": true,
   "toc_window_display": false
  },
  "varInspector": {
   "cols": {
    "lenName": 16,
    "lenType": 16,
    "lenVar": 40
   },
   "kernels_config": {
    "python": {
     "delete_cmd_postfix": "",
     "delete_cmd_prefix": "del ",
     "library": "var_list.py",
     "varRefreshCmd": "print(var_dic_list())"
    },
    "r": {
     "delete_cmd_postfix": ") ",
     "delete_cmd_prefix": "rm(",
     "library": "var_list.r",
     "varRefreshCmd": "cat(var_dic_list()) "
    }
   },
   "types_to_exclude": [
    "module",
    "function",
    "builtin_function_or_method",
    "instance",
    "_Feature"
   ],
   "window_display": false
  }
 },
 "nbformat": 4,
 "nbformat_minor": 4
}
